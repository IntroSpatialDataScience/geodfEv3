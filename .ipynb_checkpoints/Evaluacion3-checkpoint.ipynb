{
 "cells": [
  {
   "cell_type": "markdown",
   "id": "eb0b5dbf-a845-42bb-adac-1a221d870b08",
   "metadata": {},
   "source": [
    "# Evaluación 3"
   ]
  },
  {
   "cell_type": "markdown",
   "id": "8d3cd714-65e3-4660-9cb1-91ed6aa52d51",
   "metadata": {},
   "source": [
    "## Ejercicio 1"
   ]
  },
  {
   "cell_type": "markdown",
   "id": "d3a8b43f-40f7-4a76-a2e8-239d1b663250",
   "metadata": {},
   "source": [
    "### 1.1 Check if your country is a polygon or multipolygon"
   ]
  },
  {
   "cell_type": "code",
   "execution_count": 10,
   "id": "d1aace04-384c-4093-881b-fba50939d27d",
   "metadata": {},
   "outputs": [],
   "source": [
    "import os\n",
    "import geopandas as gpd\n",
    "from  fiona import listlayers\n",
    "import matplotlib.pyplot as plt"
   ]
  },
  {
   "cell_type": "code",
   "execution_count": 2,
   "id": "5c00f0f2-9a33-4e6b-9d58-255a1f987ca4",
   "metadata": {
    "tags": []
   },
   "outputs": [],
   "source": [
    "peruMaps = \"https://github.com/IntroSpatialDataScience/geodfEv3/raw/main/maps/peru_24891.gpkg\""
   ]
  },
  {
   "cell_type": "code",
   "execution_count": 3,
   "id": "c396aa17-9502-405b-8525-9343bdacbea7",
   "metadata": {
    "tags": []
   },
   "outputs": [
    {
     "data": {
      "text/plain": [
       "['country', 'cities', 'rivers']"
      ]
     },
     "execution_count": 3,
     "metadata": {},
     "output_type": "execute_result"
    }
   ],
   "source": [
    "listlayers(peruMaps)"
   ]
  },
  {
   "cell_type": "code",
   "execution_count": 4,
   "id": "46b9c02c-7026-4449-acba-4cecbc5aac91",
   "metadata": {
    "tags": []
   },
   "outputs": [],
   "source": [
    "#Obtenemos cada mapa:\n",
    "peru = gpd.read_file(peruMaps,layer=\"country\")\n",
    "peru_cities = gpd.read_file(peruMaps,layer = \"cities\")\n",
    "peru_rivers = gpd.read_file(peruMaps,layer = \"rivers\")"
   ]
  },
  {
   "cell_type": "code",
   "execution_count": 6,
   "id": "86ea463c-c79d-4f5b-8622-cd46e824ca96",
   "metadata": {
    "tags": []
   },
   "outputs": [
    {
     "data": {
      "text/html": [
       "<div>\n",
       "<style scoped>\n",
       "    .dataframe tbody tr th:only-of-type {\n",
       "        vertical-align: middle;\n",
       "    }\n",
       "\n",
       "    .dataframe tbody tr th {\n",
       "        vertical-align: top;\n",
       "    }\n",
       "\n",
       "    .dataframe thead th {\n",
       "        text-align: right;\n",
       "    }\n",
       "</style>\n",
       "<table border=\"1\" class=\"dataframe\">\n",
       "  <thead>\n",
       "    <tr style=\"text-align: right;\">\n",
       "      <th></th>\n",
       "      <th>COUNTRY</th>\n",
       "      <th>geometry</th>\n",
       "    </tr>\n",
       "  </thead>\n",
       "  <tbody>\n",
       "    <tr>\n",
       "      <th>0</th>\n",
       "      <td>Peru</td>\n",
       "      <td>POLYGON ((1423874.178 857804.844, 1423768.489 ...</td>\n",
       "    </tr>\n",
       "  </tbody>\n",
       "</table>\n",
       "</div>"
      ],
      "text/plain": [
       "  COUNTRY                                           geometry\n",
       "0    Peru  POLYGON ((1423874.178 857804.844, 1423768.489 ..."
      ]
     },
     "execution_count": 6,
     "metadata": {},
     "output_type": "execute_result"
    }
   ],
   "source": [
    "#Luego, notamos que Peru es un POLIGONO\n",
    "peru"
   ]
  },
  {
   "cell_type": "markdown",
   "id": "66264060-b3bd-4338-9bf2-0f7cf238dc80",
   "metadata": {},
   "source": [
    "### 1.2 Recover just the boundaries of that country"
   ]
  },
  {
   "cell_type": "code",
   "execution_count": 9,
   "id": "fcba113a-4d89-4585-98b7-cd1216d67699",
   "metadata": {
    "tags": []
   },
   "outputs": [
    {
     "data": {
      "text/plain": [
       "0    LINESTRING (1423874.178 857804.844, 1423768.48...\n",
       "dtype: geometry"
      ]
     },
     "execution_count": 9,
     "metadata": {},
     "output_type": "execute_result"
    }
   ],
   "source": [
    "#Notamos que el borda está formado por una sola línea\n",
    "peru.boundary"
   ]
  },
  {
   "cell_type": "code",
   "execution_count": 12,
   "id": "7c0b9385-45db-4498-ac06-4d33383fc6c4",
   "metadata": {
    "tags": []
   },
   "outputs": [
    {
     "data": {
      "image/png": "[encoded data removed]",
      "text/plain": [
       "<Figure size 640x480 with 1 Axes>"
      ]
     },
     "metadata": {},
     "output_type": "display_data"
    }
   ],
   "source": [
    "peru.boundary.plot()\n",
    "plt.show()"
   ]
  },
  {
   "cell_type": "markdown",
   "id": "70fc1a7a-6541-4f82-9d1e-e75c7cce4fa6",
   "metadata": {},
   "source": [
    "### 1.3 Turn the boundary into a GDF"
   ]
  },
  {
   "cell_type": "code",
   "execution_count": 13,
   "id": "c17269e1-2ba2-4926-9b84-a1440bf3e987",
   "metadata": {
    "tags": []
   },
   "outputs": [
    {
     "data": {
      "text/plain": [
       "geopandas.geoseries.GeoSeries"
      ]
     },
     "execution_count": 13,
     "metadata": {},
     "output_type": "execute_result"
    }
   ],
   "source": [
    "type(peru.boundary)"
   ]
  },
  {
   "cell_type": "code",
   "execution_count": 14,
   "id": "0af9bcc1-40b7-4e35-9b35-d4331988be46",
   "metadata": {
    "tags": []
   },
   "outputs": [
    {
     "data": {
      "text/html": [
       "<div>\n",
       "<style scoped>\n",
       "    .dataframe tbody tr th:only-of-type {\n",
       "        vertical-align: middle;\n",
       "    }\n",
       "\n",
       "    .dataframe tbody tr th {\n",
       "        vertical-align: top;\n",
       "    }\n",
       "\n",
       "    .dataframe thead th {\n",
       "        text-align: right;\n",
       "    }\n",
       "</style>\n",
       "<table border=\"1\" class=\"dataframe\">\n",
       "  <thead>\n",
       "    <tr style=\"text-align: right;\">\n",
       "      <th></th>\n",
       "      <th>0</th>\n",
       "    </tr>\n",
       "  </thead>\n",
       "  <tbody>\n",
       "    <tr>\n",
       "      <th>0</th>\n",
       "      <td>LINESTRING (1423874.178 857804.844, 1423768.48...</td>\n",
       "    </tr>\n",
       "  </tbody>\n",
       "</table>\n",
       "</div>"
      ],
      "text/plain": [
       "                                                   0\n",
       "0  LINESTRING (1423874.178 857804.844, 1423768.48..."
      ]
     },
     "execution_count": 14,
     "metadata": {},
     "output_type": "execute_result"
    }
   ],
   "source": [
    "peru.boundary.to_frame()"
   ]
  },
  {
   "cell_type": "code",
   "execution_count": 15,
   "id": "f94992af-a0f1-4e4b-aaf6-acc13aa746db",
   "metadata": {
    "tags": []
   },
   "outputs": [],
   "source": [
    "peru_boundary = peru.boundary.to_frame()"
   ]
  },
  {
   "cell_type": "code",
   "execution_count": 16,
   "id": "220323ed-9450-4f13-aac4-0eb4ee5ab922",
   "metadata": {
    "tags": []
   },
   "outputs": [
    {
     "data": {
      "text/html": [
       "<div>\n",
       "<style scoped>\n",
       "    .dataframe tbody tr th:only-of-type {\n",
       "        vertical-align: middle;\n",
       "    }\n",
       "\n",
       "    .dataframe tbody tr th {\n",
       "        vertical-align: top;\n",
       "    }\n",
       "\n",
       "    .dataframe thead th {\n",
       "        text-align: right;\n",
       "    }\n",
       "</style>\n",
       "<table border=\"1\" class=\"dataframe\">\n",
       "  <thead>\n",
       "    <tr style=\"text-align: right;\">\n",
       "      <th></th>\n",
       "      <th>0</th>\n",
       "      <th>name</th>\n",
       "    </tr>\n",
       "  </thead>\n",
       "  <tbody>\n",
       "    <tr>\n",
       "      <th>0</th>\n",
       "      <td>LINESTRING (1423874.178 857804.844, 1423768.48...</td>\n",
       "      <td>Peru</td>\n",
       "    </tr>\n",
       "  </tbody>\n",
       "</table>\n",
       "</div>"
      ],
      "text/plain": [
       "                                                   0  name\n",
       "0  LINESTRING (1423874.178 857804.844, 1423768.48...  Peru"
      ]
     },
     "execution_count": 16,
     "metadata": {},
     "output_type": "execute_result"
    }
   ],
   "source": [
    "peru_boundary[\"name\"]=\"Peru\"\n",
    "peru_boundary"
   ]
  },
  {
   "cell_type": "code",
   "execution_count": 21,
   "id": "cfe37cad-c309-4e97-81dc-507c3c6594c6",
   "metadata": {
    "tags": []
   },
   "outputs": [
    {
     "data": {
      "text/html": [
       "<div>\n",
       "<style scoped>\n",
       "    .dataframe tbody tr th:only-of-type {\n",
       "        vertical-align: middle;\n",
       "    }\n",
       "\n",
       "    .dataframe tbody tr th {\n",
       "        vertical-align: top;\n",
       "    }\n",
       "\n",
       "    .dataframe thead th {\n",
       "        text-align: right;\n",
       "    }\n",
       "</style>\n",
       "<table border=\"1\" class=\"dataframe\">\n",
       "  <thead>\n",
       "    <tr style=\"text-align: right;\">\n",
       "      <th></th>\n",
       "      <th>geometry</th>\n",
       "      <th>name</th>\n",
       "    </tr>\n",
       "  </thead>\n",
       "  <tbody>\n",
       "    <tr>\n",
       "      <th>0</th>\n",
       "      <td>LINESTRING (1423874.178 857804.844, 1423768.48...</td>\n",
       "      <td>Peru</td>\n",
       "    </tr>\n",
       "  </tbody>\n",
       "</table>\n",
       "</div>"
      ],
      "text/plain": [
       "                                            geometry  name\n",
       "0  LINESTRING (1423874.178 857804.844, 1423768.48...  Peru"
      ]
     },
     "execution_count": 21,
     "metadata": {},
     "output_type": "execute_result"
    }
   ],
   "source": [
    "peru_boundary.rename(columns={0:\"geometry\"},inplace=True)\n",
    "peru_boundary = peru_boundary.set_geometry(\"geometry\")\n",
    "peru_boundary"
   ]
  },
  {
   "cell_type": "markdown",
   "id": "4275db45-c195-4391-8e84-9df5c3dc0dd8",
   "metadata": {},
   "source": [
    "## Ejercicio 2"
   ]
  },
  {
   "cell_type": "markdown",
   "id": "73235a71-cecf-4d41-93bc-d07e4b8cf6a0",
   "metadata": {},
   "source": [
    "De aquí extraje el archivo shp de los bordes de Perú [here](https://data.humdata.org/dataset/cod-ab-per)"
   ]
  },
  {
   "cell_type": "code",
   "execution_count": null,
   "id": "608b0bce-d0e5-4f77-8c31-9d4103c4338e",
   "metadata": {},
   "outputs": [],
   "source": [
    "https://data.humdata.org/dataset/ourairports-per\n",
    "https://data.humdata.org/dataset/world-bank-energy-and-mining-indicators-for-peru\n",
    "https://data.humdata.org/dataset/peru-healthsites\n"
   ]
  }
 ],
 "metadata": {
  "kernelspec": {
   "display_name": "Python 3 (ipykernel)",
   "language": "python",
   "name": "python3"
  },
  "language_info": {
   "codemirror_mode": {
    "name": "ipython",
    "version": 3
   },
   "file_extension": ".py",
   "mimetype": "text/x-python",
   "name": "python",
   "nbconvert_exporter": "python",
   "pygments_lexer": "ipython3",
   "version": "3.11.4"
  }
 },
 "nbformat": 4,
 "nbformat_minor": 5
}
