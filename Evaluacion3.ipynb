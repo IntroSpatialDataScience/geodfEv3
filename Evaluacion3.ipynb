{
 "cells": [
  {
   "cell_type": "markdown",
   "id": "eb0b5dbf-a845-42bb-adac-1a221d870b08",
   "metadata": {},
   "source": [
    "# Evaluación 3"
   ]
  },
  {
   "cell_type": "markdown",
   "id": "8d3cd714-65e3-4660-9cb1-91ed6aa52d51",
   "metadata": {},
   "source": [
    "## Ejercicio 1"
   ]
  },
  {
   "cell_type": "markdown",
   "id": "d3a8b43f-40f7-4a76-a2e8-239d1b663250",
   "metadata": {},
   "source": [
    "### 1. Check if your country is a polygon or multipolygon"
   ]
  },
  {
   "cell_type": "code",
   "execution_count": 1,
   "id": "d1aace04-384c-4093-881b-fba50939d27d",
   "metadata": {},
   "outputs": [],
   "source": [
    "import os\n",
    "import geopandas as gpd\n",
    "from  fiona import listlayers"
   ]
  },
  {
   "cell_type": "code",
   "execution_count": 2,
   "id": "5c00f0f2-9a33-4e6b-9d58-255a1f987ca4",
   "metadata": {
    "tags": []
   },
   "outputs": [],
   "source": [
    "peruMaps = \"https://github.com/IntroSpatialDataScience/geodfEv3/raw/main/maps/peru_24891.gpkg\""
   ]
  },
  {
   "cell_type": "code",
   "execution_count": 3,
   "id": "c396aa17-9502-405b-8525-9343bdacbea7",
   "metadata": {
    "tags": []
   },
   "outputs": [
    {
     "data": {
      "text/plain": [
       "['country', 'cities', 'rivers']"
      ]
     },
     "execution_count": 3,
     "metadata": {},
     "output_type": "execute_result"
    }
   ],
   "source": [
    "listlayers(peruMaps)"
   ]
  },
  {
   "cell_type": "code",
   "execution_count": 4,
   "id": "46b9c02c-7026-4449-acba-4cecbc5aac91",
   "metadata": {
    "tags": []
   },
   "outputs": [],
   "source": [
    "#Obtenemos cada mapa:\n",
    "peru = gpd.read_file(peruMaps,layer=\"country\")\n",
    "peru_cities = gpd.read_file(peruMaps,layer = \"cities\")\n",
    "peru_rivers = gpd.read_file(peruMaps,layer = \"rivers\")"
   ]
  },
  {
   "cell_type": "code",
   "execution_count": 6,
   "id": "86ea463c-c79d-4f5b-8622-cd46e824ca96",
   "metadata": {
    "tags": []
   },
   "outputs": [
    {
     "data": {
      "text/html": [
       "<div>\n",
       "<style scoped>\n",
       "    .dataframe tbody tr th:only-of-type {\n",
       "        vertical-align: middle;\n",
       "    }\n",
       "\n",
       "    .dataframe tbody tr th {\n",
       "        vertical-align: top;\n",
       "    }\n",
       "\n",
       "    .dataframe thead th {\n",
       "        text-align: right;\n",
       "    }\n",
       "</style>\n",
       "<table border=\"1\" class=\"dataframe\">\n",
       "  <thead>\n",
       "    <tr style=\"text-align: right;\">\n",
       "      <th></th>\n",
       "      <th>COUNTRY</th>\n",
       "      <th>geometry</th>\n",
       "    </tr>\n",
       "  </thead>\n",
       "  <tbody>\n",
       "    <tr>\n",
       "      <th>0</th>\n",
       "      <td>Peru</td>\n",
       "      <td>POLYGON ((1423874.178 857804.844, 1423768.489 ...</td>\n",
       "    </tr>\n",
       "  </tbody>\n",
       "</table>\n",
       "</div>"
      ],
      "text/plain": [
       "  COUNTRY                                           geometry\n",
       "0    Peru  POLYGON ((1423874.178 857804.844, 1423768.489 ..."
      ]
     },
     "execution_count": 6,
     "metadata": {},
     "output_type": "execute_result"
    }
   ],
   "source": [
    "#Luego, notamos que Peru es un POLIGONO\n",
    "peru"
   ]
  },
  {
   "cell_type": "code",
   "execution_count": null,
   "id": "c08c1d8e-1a5b-48aa-a4a7-b3ea375f7c27",
   "metadata": {},
   "outputs": [],
   "source": []
  }
 ],
 "metadata": {
  "kernelspec": {
   "display_name": "Python 3 (ipykernel)",
   "language": "python",
   "name": "python3"
  },
  "language_info": {
   "codemirror_mode": {
    "name": "ipython",
    "version": 3
   },
   "file_extension": ".py",
   "mimetype": "text/x-python",
   "name": "python",
   "nbconvert_exporter": "python",
   "pygments_lexer": "ipython3",
   "version": "3.11.4"
  }
 },
 "nbformat": 4,
 "nbformat_minor": 5
}
