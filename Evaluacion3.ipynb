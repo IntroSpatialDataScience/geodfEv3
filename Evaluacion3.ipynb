{
 "cells": [
  {
   "cell_type": "markdown",
   "id": "eb0b5dbf-a845-42bb-adac-1a221d870b08",
   "metadata": {},
   "source": [
    "# Evaluación 3"
   ]
  },
  {
   "cell_type": "markdown",
   "id": "8d3cd714-65e3-4660-9cb1-91ed6aa52d51",
   "metadata": {},
   "source": [
    "## Ejercicio 1"
   ]
  },
  {
   "cell_type": "markdown",
   "id": "d3a8b43f-40f7-4a76-a2e8-239d1b663250",
   "metadata": {},
   "source": [
    "### 1. Check if your country is a polygon or multipolygon"
   ]
  },
  {
   "cell_type": "code",
   "execution_count": null,
   "id": "d1aace04-384c-4093-881b-fba50939d27d",
   "metadata": {},
   "outputs": [],
   "source": []
  }
 ],
 "metadata": {
  "kernelspec": {
   "display_name": "Python 3 (ipykernel)",
   "language": "python",
   "name": "python3"
  },
  "language_info": {
   "codemirror_mode": {
    "name": "ipython",
    "version": 3
   },
   "file_extension": ".py",
   "mimetype": "text/x-python",
   "name": "python",
   "nbconvert_exporter": "python",
   "pygments_lexer": "ipython3",
   "version": "3.11.4"
  }
 },
 "nbformat": 4,
 "nbformat_minor": 5
}
